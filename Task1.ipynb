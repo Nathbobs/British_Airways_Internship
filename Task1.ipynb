{
 "cells": [
  {
   "cell_type": "markdown",
   "metadata": {},
   "source": [
    "Web Scraping "
   ]
  },
  {
   "cell_type": "code",
   "execution_count": 16,
   "metadata": {},
   "outputs": [],
   "source": [
    "from bs4 import BeautifulSoup\n",
    "import requests\n"
   ]
  },
  {
   "cell_type": "code",
   "execution_count": 18,
   "metadata": {},
   "outputs": [],
   "source": [
    "reviews = [] # list to store reviews"
   ]
  },
  {
   "cell_type": "code",
   "execution_count": 25,
   "metadata": {},
   "outputs": [
    {
     "name": "stdout",
     "output_type": "stream",
     "text": [
      "  --> Scraping page 1 of 10\n",
      "  --> 2220 total reviews found\n",
      "  --> Scraping page 2 of 10\n",
      "  --> 2320 total reviews found\n",
      "  --> Scraping page 3 of 10\n",
      "  --> 2420 total reviews found\n",
      "  --> Scraping page 4 of 10\n",
      "  --> 2520 total reviews found\n",
      "  --> Scraping page 5 of 10\n",
      "  --> 2620 total reviews found\n",
      "  --> Scraping page 6 of 10\n",
      "  --> 2720 total reviews found\n",
      "  --> Scraping page 7 of 10\n",
      "  --> 2820 total reviews found\n",
      "  --> Scraping page 8 of 10\n",
      "  --> 2920 total reviews found\n",
      "  --> Scraping page 9 of 10\n",
      "  --> 3020 total reviews found\n",
      "  --> Scraping page 10 of 10\n",
      "  --> 3120 total reviews found\n"
     ]
    }
   ],
   "source": [
    "url = 'https://www.airlinequality.com/airline-reviews/british-airways/'\n",
    "pages = 10\n",
    "page_size = 100\n",
    "\n",
    "#checking out for the total number of pages; each page contains 100 reviews\n",
    "for i in range(1, pages + 1):\n",
    "    print(f\"  --> Scraping page {i} of {pages}\")\n",
    "    url = f'https://www.airlinequality.com/airline-reviews/british-airways/page/{i}/?sortby=post_date%3ADesc&pagesize={page_size}'\n",
    "    page = requests.get(url) # collecting data from page\n",
    "    content = page.content # getting the content of the page\n",
    "    parsed_content = BeautifulSoup(content, 'html.parser') # parsing the content of the page\n",
    "    for i in parsed_content.find_all('div', {\"class\": 'text_content'}):\n",
    "        reviews.append(i.get_text)\n",
    "\n",
    "# BeautifulSoup(page.content, 'html')\n",
    "# content = page.content  \n",
    "# parsed_content = BeautifulSoup(content, 'html.parser')\n",
    "# for i in parsed_content.find_all('div', class_='text_content'):\n",
    "#     reviews.append(i.text)\n",
    "\n",
    "    print(f\"  --> {len(reviews)} total reviews found\")\n",
    "    "
   ]
  },
  {
   "cell_type": "code",
   "execution_count": 41,
   "metadata": {},
   "outputs": [],
   "source": [
    "import pandas as pd\n",
    "\n",
    "df = pd.DataFrame({'Reviews': reviews})\n",
    "df.to_csv('british_airways_reviews.csv', index=False)\n",
    "\n"
   ]
  },
  {
   "cell_type": "code",
   "execution_count": 42,
   "metadata": {},
   "outputs": [
    {
     "data": {
      "text/html": [
       "<div>\n",
       "<style scoped>\n",
       "    .dataframe tbody tr th:only-of-type {\n",
       "        vertical-align: middle;\n",
       "    }\n",
       "\n",
       "    .dataframe tbody tr th {\n",
       "        vertical-align: top;\n",
       "    }\n",
       "\n",
       "    .dataframe thead th {\n",
       "        text-align: right;\n",
       "    }\n",
       "</style>\n",
       "<table border=\"1\" class=\"dataframe\">\n",
       "  <thead>\n",
       "    <tr style=\"text-align: right;\">\n",
       "      <th></th>\n",
       "      <th>reviews</th>\n",
       "    </tr>\n",
       "  </thead>\n",
       "  <tbody>\n",
       "    <tr>\n",
       "      <th>0</th>\n",
       "      <td>✅ Trip Verified | I strongly advise everyone t...</td>\n",
       "    </tr>\n",
       "    <tr>\n",
       "      <th>1</th>\n",
       "      <td>✅ Trip Verified | My partner and I were on the...</td>\n",
       "    </tr>\n",
       "    <tr>\n",
       "      <th>2</th>\n",
       "      <td>Not Verified |  We had a Premium Economy retur...</td>\n",
       "    </tr>\n",
       "    <tr>\n",
       "      <th>3</th>\n",
       "      <td>✅ Trip Verified |  I should like to review my ...</td>\n",
       "    </tr>\n",
       "    <tr>\n",
       "      <th>4</th>\n",
       "      <td>✅ Trip Verified | We have flown with British A...</td>\n",
       "    </tr>\n",
       "  </tbody>\n",
       "</table>\n",
       "</div>"
      ],
      "text/plain": [
       "                                             reviews\n",
       "0  ✅ Trip Verified | I strongly advise everyone t...\n",
       "1  ✅ Trip Verified | My partner and I were on the...\n",
       "2  Not Verified |  We had a Premium Economy retur...\n",
       "3  ✅ Trip Verified |  I should like to review my ...\n",
       "4  ✅ Trip Verified | We have flown with British A..."
      ]
     },
     "execution_count": 42,
     "metadata": {},
     "output_type": "execute_result"
    }
   ],
   "source": [
    "df = pd.DataFrame()\n",
    "df[\"reviews\"] = reviews\n",
    "df.head()"
   ]
  },
  {
   "cell_type": "markdown",
   "metadata": {},
   "source": [
    "Reviews Cleaning\n"
   ]
  },
  {
   "cell_type": "code",
   "execution_count": 45,
   "metadata": {},
   "outputs": [],
   "source": [
    "df.reviews = df.reviews.str.split('|', expand=True)[1]"
   ]
  },
  {
   "cell_type": "code",
   "execution_count": 40,
   "metadata": {},
   "outputs": [
    {
     "data": {
      "text/html": [
       "<div>\n",
       "<style scoped>\n",
       "    .dataframe tbody tr th:only-of-type {\n",
       "        vertical-align: middle;\n",
       "    }\n",
       "\n",
       "    .dataframe tbody tr th {\n",
       "        vertical-align: top;\n",
       "    }\n",
       "\n",
       "    .dataframe thead th {\n",
       "        text-align: right;\n",
       "    }\n",
       "</style>\n",
       "<table border=\"1\" class=\"dataframe\">\n",
       "  <thead>\n",
       "    <tr style=\"text-align: right;\">\n",
       "      <th></th>\n",
       "      <th>Reviews</th>\n",
       "      <th>reviews</th>\n",
       "    </tr>\n",
       "  </thead>\n",
       "  <tbody>\n",
       "    <tr>\n",
       "      <th>0</th>\n",
       "      <td>✅ Trip Verified | I strongly advise everyone t...</td>\n",
       "      <td>I strongly advise everyone to NEVER fly Briti...</td>\n",
       "    </tr>\n",
       "    <tr>\n",
       "      <th>1</th>\n",
       "      <td>✅ Trip Verified | My partner and I were on the...</td>\n",
       "      <td>My partner and I were on the BA2166 return fl...</td>\n",
       "    </tr>\n",
       "    <tr>\n",
       "      <th>2</th>\n",
       "      <td>Not Verified |  We had a Premium Economy retur...</td>\n",
       "      <td>We had a Premium Economy return flight Los A...</td>\n",
       "    </tr>\n",
       "    <tr>\n",
       "      <th>3</th>\n",
       "      <td>✅ Trip Verified |  I should like to review my ...</td>\n",
       "      <td>I should like to review my flight with Briti...</td>\n",
       "    </tr>\n",
       "    <tr>\n",
       "      <th>4</th>\n",
       "      <td>✅ Trip Verified | We have flown with British A...</td>\n",
       "      <td>We have flown with British Airways a few time...</td>\n",
       "    </tr>\n",
       "    <tr>\n",
       "      <th>...</th>\n",
       "      <td>...</td>\n",
       "      <td>...</td>\n",
       "    </tr>\n",
       "    <tr>\n",
       "      <th>3115</th>\n",
       "      <td>&lt;bound method PageElement.get_text of &lt;div cla...</td>\n",
       "      <td>NaN</td>\n",
       "    </tr>\n",
       "    <tr>\n",
       "      <th>3116</th>\n",
       "      <td>&lt;bound method PageElement.get_text of &lt;div cla...</td>\n",
       "      <td>NaN</td>\n",
       "    </tr>\n",
       "    <tr>\n",
       "      <th>3117</th>\n",
       "      <td>&lt;bound method PageElement.get_text of &lt;div cla...</td>\n",
       "      <td>NaN</td>\n",
       "    </tr>\n",
       "    <tr>\n",
       "      <th>3118</th>\n",
       "      <td>&lt;bound method PageElement.get_text of &lt;div cla...</td>\n",
       "      <td>NaN</td>\n",
       "    </tr>\n",
       "    <tr>\n",
       "      <th>3119</th>\n",
       "      <td>&lt;bound method PageElement.get_text of &lt;div cla...</td>\n",
       "      <td>NaN</td>\n",
       "    </tr>\n",
       "  </tbody>\n",
       "</table>\n",
       "<p>3120 rows × 2 columns</p>\n",
       "</div>"
      ],
      "text/plain": [
       "                                                Reviews  \\\n",
       "0     ✅ Trip Verified | I strongly advise everyone t...   \n",
       "1     ✅ Trip Verified | My partner and I were on the...   \n",
       "2     Not Verified |  We had a Premium Economy retur...   \n",
       "3     ✅ Trip Verified |  I should like to review my ...   \n",
       "4     ✅ Trip Verified | We have flown with British A...   \n",
       "...                                                 ...   \n",
       "3115  <bound method PageElement.get_text of <div cla...   \n",
       "3116  <bound method PageElement.get_text of <div cla...   \n",
       "3117  <bound method PageElement.get_text of <div cla...   \n",
       "3118  <bound method PageElement.get_text of <div cla...   \n",
       "3119  <bound method PageElement.get_text of <div cla...   \n",
       "\n",
       "                                                reviews  \n",
       "0      I strongly advise everyone to NEVER fly Briti...  \n",
       "1      My partner and I were on the BA2166 return fl...  \n",
       "2       We had a Premium Economy return flight Los A...  \n",
       "3       I should like to review my flight with Briti...  \n",
       "4      We have flown with British Airways a few time...  \n",
       "...                                                 ...  \n",
       "3115                                                NaN  \n",
       "3116                                                NaN  \n",
       "3117                                                NaN  \n",
       "3118                                                NaN  \n",
       "3119                                                NaN  \n",
       "\n",
       "[3120 rows x 2 columns]"
      ]
     },
     "execution_count": 40,
     "metadata": {},
     "output_type": "execute_result"
    }
   ],
   "source": [
    "df"
   ]
  },
  {
   "cell_type": "markdown",
   "metadata": {},
   "source": [
    "Cleaning the text"
   ]
  },
  {
   "cell_type": "code",
   "execution_count": 47,
   "metadata": {},
   "outputs": [
    {
     "data": {
      "text/html": [
       "<div>\n",
       "<style scoped>\n",
       "    .dataframe tbody tr th:only-of-type {\n",
       "        vertical-align: middle;\n",
       "    }\n",
       "\n",
       "    .dataframe tbody tr th {\n",
       "        vertical-align: top;\n",
       "    }\n",
       "\n",
       "    .dataframe thead th {\n",
       "        text-align: right;\n",
       "    }\n",
       "</style>\n",
       "<table border=\"1\" class=\"dataframe\">\n",
       "  <thead>\n",
       "    <tr style=\"text-align: right;\">\n",
       "      <th></th>\n",
       "      <th>reviews</th>\n",
       "      <th>Cleaned Reviews</th>\n",
       "    </tr>\n",
       "  </thead>\n",
       "  <tbody>\n",
       "    <tr>\n",
       "      <th>0</th>\n",
       "      <td>I strongly advise everyone to NEVER fly Briti...</td>\n",
       "      <td>I strongly advise everyone to NEVER fly Briti...</td>\n",
       "    </tr>\n",
       "    <tr>\n",
       "      <th>1</th>\n",
       "      <td>My partner and I were on the BA2166 return fl...</td>\n",
       "      <td>My partner and I were on the BA return flight...</td>\n",
       "    </tr>\n",
       "    <tr>\n",
       "      <th>2</th>\n",
       "      <td>We had a Premium Economy return flight Los A...</td>\n",
       "      <td>We had a Premium Economy return flight Los An...</td>\n",
       "    </tr>\n",
       "    <tr>\n",
       "      <th>3</th>\n",
       "      <td>I should like to review my flight with Briti...</td>\n",
       "      <td>I should like to review my flight with Britis...</td>\n",
       "    </tr>\n",
       "    <tr>\n",
       "      <th>4</th>\n",
       "      <td>We have flown with British Airways a few time...</td>\n",
       "      <td>We have flown with British Airways a few time...</td>\n",
       "    </tr>\n",
       "  </tbody>\n",
       "</table>\n",
       "</div>"
      ],
      "text/plain": [
       "                                             reviews  \\\n",
       "0   I strongly advise everyone to NEVER fly Briti...   \n",
       "1   My partner and I were on the BA2166 return fl...   \n",
       "2    We had a Premium Economy return flight Los A...   \n",
       "3    I should like to review my flight with Briti...   \n",
       "4   We have flown with British Airways a few time...   \n",
       "\n",
       "                                     Cleaned Reviews  \n",
       "0   I strongly advise everyone to NEVER fly Briti...  \n",
       "1   My partner and I were on the BA return flight...  \n",
       "2   We had a Premium Economy return flight Los An...  \n",
       "3   I should like to review my flight with Britis...  \n",
       "4   We have flown with British Airways a few time...  "
      ]
     },
     "execution_count": 47,
     "metadata": {},
     "output_type": "execute_result"
    }
   ],
   "source": [
    "import re\n",
    "\n",
    "\n",
    "def clean(text): # Function to clean the text in the review column\n",
    "# Removes all special characters\n",
    "    text = re.sub('[^A-Za-z]+', ' ', str(text))\n",
    "    return text\n",
    "\n",
    "df['Cleaned Reviews'] = df['reviews'].apply(clean)\n",
    "df.head()"
   ]
  },
  {
   "cell_type": "markdown",
   "metadata": {},
   "source": [
    "STOPWORDS"
   ]
  },
  {
   "cell_type": "code",
   "execution_count": 51,
   "metadata": {},
   "outputs": [
    {
     "name": "stderr",
     "output_type": "stream",
     "text": [
      "[nltk_data] Downloading package punkt to /Users/nathbobs/nltk_data...\n",
      "[nltk_data]   Package punkt is already up-to-date!\n",
      "[nltk_data] Downloading package stopwords to\n",
      "[nltk_data]     /Users/nathbobs/nltk_data...\n",
      "[nltk_data]   Unzipping corpora/stopwords.zip.\n",
      "[nltk_data] Downloading package wordnet to\n",
      "[nltk_data]     /Users/nathbobs/nltk_data...\n"
     ]
    }
   ],
   "source": [
    "import nltk\n",
    "\n",
    "nltk.download('punkt')\n",
    "from nltk.tokenize import word_tokenize\n",
    "from nltk import pos_tag\n",
    "nltk.download('stopwords')\n",
    "from nltk.corpus import stopwords\n",
    "nltk.download('wordnet')\n",
    "from nltk.corpus import wordnet"
   ]
  },
  {
   "cell_type": "code",
   "execution_count": 52,
   "metadata": {},
   "outputs": [
    {
     "name": "stderr",
     "output_type": "stream",
     "text": [
      "[nltk_data] Downloading package omw-1.4 to\n",
      "[nltk_data]     /Users/nathbobs/nltk_data...\n",
      "[nltk_data]   Package omw-1.4 is already up-to-date!\n",
      "[nltk_data] Downloading package averaged_perceptron_tagger to\n",
      "[nltk_data]     /Users/nathbobs/nltk_data...\n",
      "[nltk_data]   Package averaged_perceptron_tagger is already up-to-\n",
      "[nltk_data]       date!\n"
     ]
    },
    {
     "data": {
      "text/html": [
       "<div>\n",
       "<style scoped>\n",
       "    .dataframe tbody tr th:only-of-type {\n",
       "        vertical-align: middle;\n",
       "    }\n",
       "\n",
       "    .dataframe tbody tr th {\n",
       "        vertical-align: top;\n",
       "    }\n",
       "\n",
       "    .dataframe thead th {\n",
       "        text-align: right;\n",
       "    }\n",
       "</style>\n",
       "<table border=\"1\" class=\"dataframe\">\n",
       "  <thead>\n",
       "    <tr style=\"text-align: right;\">\n",
       "      <th></th>\n",
       "      <th>reviews</th>\n",
       "      <th>Cleaned Reviews</th>\n",
       "      <th>POS tagged</th>\n",
       "    </tr>\n",
       "  </thead>\n",
       "  <tbody>\n",
       "    <tr>\n",
       "      <th>0</th>\n",
       "      <td>I strongly advise everyone to NEVER fly Briti...</td>\n",
       "      <td>I strongly advise everyone to NEVER fly Briti...</td>\n",
       "      <td>[(strongly, r), (advise, v), (everyone, n), (N...</td>\n",
       "    </tr>\n",
       "    <tr>\n",
       "      <th>1</th>\n",
       "      <td>My partner and I were on the BA2166 return fl...</td>\n",
       "      <td>My partner and I were on the BA return flight...</td>\n",
       "      <td>[(partner, n), (BA, n), (return, n), (flight, ...</td>\n",
       "    </tr>\n",
       "    <tr>\n",
       "      <th>2</th>\n",
       "      <td>We had a Premium Economy return flight Los A...</td>\n",
       "      <td>We had a Premium Economy return flight Los An...</td>\n",
       "      <td>[(Premium, a), (Economy, n), (return, n), (fli...</td>\n",
       "    </tr>\n",
       "    <tr>\n",
       "      <th>3</th>\n",
       "      <td>I should like to review my flight with Briti...</td>\n",
       "      <td>I should like to review my flight with Britis...</td>\n",
       "      <td>[(like, v), (review, v), (flight, n), (British...</td>\n",
       "    </tr>\n",
       "    <tr>\n",
       "      <th>4</th>\n",
       "      <td>We have flown with British Airways a few time...</td>\n",
       "      <td>We have flown with British Airways a few time...</td>\n",
       "      <td>[(flown, v), (British, n), (Airways, n), (time...</td>\n",
       "    </tr>\n",
       "  </tbody>\n",
       "</table>\n",
       "</div>"
      ],
      "text/plain": [
       "                                             reviews  \\\n",
       "0   I strongly advise everyone to NEVER fly Briti...   \n",
       "1   My partner and I were on the BA2166 return fl...   \n",
       "2    We had a Premium Economy return flight Los A...   \n",
       "3    I should like to review my flight with Briti...   \n",
       "4   We have flown with British Airways a few time...   \n",
       "\n",
       "                                     Cleaned Reviews  \\\n",
       "0   I strongly advise everyone to NEVER fly Briti...   \n",
       "1   My partner and I were on the BA return flight...   \n",
       "2   We had a Premium Economy return flight Los An...   \n",
       "3   I should like to review my flight with Britis...   \n",
       "4   We have flown with British Airways a few time...   \n",
       "\n",
       "                                          POS tagged  \n",
       "0  [(strongly, r), (advise, v), (everyone, n), (N...  \n",
       "1  [(partner, n), (BA, n), (return, n), (flight, ...  \n",
       "2  [(Premium, a), (Economy, n), (return, n), (fli...  \n",
       "3  [(like, v), (review, v), (flight, n), (British...  \n",
       "4  [(flown, v), (British, n), (Airways, n), (time...  "
      ]
     },
     "execution_count": 52,
     "metadata": {},
     "output_type": "execute_result"
    }
   ],
   "source": [
    "nltk.download('omw-1.4')\n",
    "nltk.download('averaged_perceptron_tagger')\n",
    "\n",
    "# POS tagger dictionary\n",
    "pos_dict = {'J':wordnet.ADJ, 'V':wordnet.VERB, 'N':wordnet.NOUN, 'R':wordnet.ADV}\n",
    "def token_stop_pos(text):\n",
    "    tags = pos_tag(word_tokenize(text))\n",
    "    #print(tags)\n",
    "    newlist = []\n",
    "    for word, tag in tags:\n",
    "        if word.lower() not in set(stopwords.words('english')):\n",
    "          newlist.append(tuple([word, pos_dict.get(tag[0])]))\n",
    "    return newlist \n",
    "\n",
    "df['POS tagged'] = df['Cleaned Reviews'].apply(token_stop_pos)\n",
    "df.head()"
   ]
  },
  {
   "cell_type": "markdown",
   "metadata": {},
   "source": [
    "LEMITIZATION"
   ]
  },
  {
   "cell_type": "code",
   "execution_count": 53,
   "metadata": {},
   "outputs": [
    {
     "data": {
      "text/html": [
       "<div>\n",
       "<style scoped>\n",
       "    .dataframe tbody tr th:only-of-type {\n",
       "        vertical-align: middle;\n",
       "    }\n",
       "\n",
       "    .dataframe tbody tr th {\n",
       "        vertical-align: top;\n",
       "    }\n",
       "\n",
       "    .dataframe thead th {\n",
       "        text-align: right;\n",
       "    }\n",
       "</style>\n",
       "<table border=\"1\" class=\"dataframe\">\n",
       "  <thead>\n",
       "    <tr style=\"text-align: right;\">\n",
       "      <th></th>\n",
       "      <th>reviews</th>\n",
       "      <th>Cleaned Reviews</th>\n",
       "      <th>POS tagged</th>\n",
       "      <th>Lemma</th>\n",
       "    </tr>\n",
       "  </thead>\n",
       "  <tbody>\n",
       "    <tr>\n",
       "      <th>0</th>\n",
       "      <td>I strongly advise everyone to NEVER fly Briti...</td>\n",
       "      <td>I strongly advise everyone to NEVER fly Briti...</td>\n",
       "      <td>[(strongly, r), (advise, v), (everyone, n), (N...</td>\n",
       "      <td>strongly advise everyone NEVER fly British A...</td>\n",
       "    </tr>\n",
       "    <tr>\n",
       "      <th>1</th>\n",
       "      <td>My partner and I were on the BA2166 return fl...</td>\n",
       "      <td>My partner and I were on the BA return flight...</td>\n",
       "      <td>[(partner, n), (BA, n), (return, n), (flight, ...</td>\n",
       "      <td>partner BA return flight Tampa Gatwick excit...</td>\n",
       "    </tr>\n",
       "    <tr>\n",
       "      <th>2</th>\n",
       "      <td>We had a Premium Economy return flight Los A...</td>\n",
       "      <td>We had a Premium Economy return flight Los An...</td>\n",
       "      <td>[(Premium, a), (Economy, n), (return, n), (fli...</td>\n",
       "      <td>Premium Economy return flight Los Angeles Lo...</td>\n",
       "    </tr>\n",
       "    <tr>\n",
       "      <th>3</th>\n",
       "      <td>I should like to review my flight with Briti...</td>\n",
       "      <td>I should like to review my flight with Britis...</td>\n",
       "      <td>[(like, v), (review, v), (flight, n), (British...</td>\n",
       "      <td>like review flight British Airways Hannover ...</td>\n",
       "    </tr>\n",
       "    <tr>\n",
       "      <th>4</th>\n",
       "      <td>We have flown with British Airways a few time...</td>\n",
       "      <td>We have flown with British Airways a few time...</td>\n",
       "      <td>[(flown, v), (British, n), (Airways, n), (time...</td>\n",
       "      <td>fly British Airways time last trip far bad e...</td>\n",
       "    </tr>\n",
       "  </tbody>\n",
       "</table>\n",
       "</div>"
      ],
      "text/plain": [
       "                                             reviews  \\\n",
       "0   I strongly advise everyone to NEVER fly Briti...   \n",
       "1   My partner and I were on the BA2166 return fl...   \n",
       "2    We had a Premium Economy return flight Los A...   \n",
       "3    I should like to review my flight with Briti...   \n",
       "4   We have flown with British Airways a few time...   \n",
       "\n",
       "                                     Cleaned Reviews  \\\n",
       "0   I strongly advise everyone to NEVER fly Briti...   \n",
       "1   My partner and I were on the BA return flight...   \n",
       "2   We had a Premium Economy return flight Los An...   \n",
       "3   I should like to review my flight with Britis...   \n",
       "4   We have flown with British Airways a few time...   \n",
       "\n",
       "                                          POS tagged  \\\n",
       "0  [(strongly, r), (advise, v), (everyone, n), (N...   \n",
       "1  [(partner, n), (BA, n), (return, n), (flight, ...   \n",
       "2  [(Premium, a), (Economy, n), (return, n), (fli...   \n",
       "3  [(like, v), (review, v), (flight, n), (British...   \n",
       "4  [(flown, v), (British, n), (Airways, n), (time...   \n",
       "\n",
       "                                               Lemma  \n",
       "0    strongly advise everyone NEVER fly British A...  \n",
       "1    partner BA return flight Tampa Gatwick excit...  \n",
       "2    Premium Economy return flight Los Angeles Lo...  \n",
       "3    like review flight British Airways Hannover ...  \n",
       "4    fly British Airways time last trip far bad e...  "
      ]
     },
     "execution_count": 53,
     "metadata": {},
     "output_type": "execute_result"
    }
   ],
   "source": [
    "from nltk.stem import WordNetLemmatizer\n",
    "wordnet_lemmatizer = WordNetLemmatizer()\n",
    "def lemmatize(pos_data):\n",
    "    lemma_rew = \" \"\n",
    "    for word, pos in pos_data:\n",
    "     if not pos:\n",
    "        lemma = word\n",
    "        lemma_rew = lemma_rew + \" \" + lemma\n",
    "     else:\n",
    "        lemma = wordnet_lemmatizer.lemmatize(word, pos=pos)\n",
    "        lemma_rew = lemma_rew + \" \" + lemma\n",
    "    return lemma_rew\n",
    "\n",
    "df['Lemma'] = df['POS tagged'].apply(lemmatize)\n",
    "df.head()"
   ]
  },
  {
   "cell_type": "code",
   "execution_count": 55,
   "metadata": {},
   "outputs": [
    {
     "data": {
      "text/html": [
       "<div>\n",
       "<style scoped>\n",
       "    .dataframe tbody tr th:only-of-type {\n",
       "        vertical-align: middle;\n",
       "    }\n",
       "\n",
       "    .dataframe tbody tr th {\n",
       "        vertical-align: top;\n",
       "    }\n",
       "\n",
       "    .dataframe thead th {\n",
       "        text-align: right;\n",
       "    }\n",
       "</style>\n",
       "<table border=\"1\" class=\"dataframe\">\n",
       "  <thead>\n",
       "    <tr style=\"text-align: right;\">\n",
       "      <th></th>\n",
       "      <th>reviews</th>\n",
       "      <th>Lemma</th>\n",
       "    </tr>\n",
       "  </thead>\n",
       "  <tbody>\n",
       "    <tr>\n",
       "      <th>0</th>\n",
       "      <td>I strongly advise everyone to NEVER fly Briti...</td>\n",
       "      <td>strongly advise everyone NEVER fly British A...</td>\n",
       "    </tr>\n",
       "    <tr>\n",
       "      <th>1</th>\n",
       "      <td>My partner and I were on the BA2166 return fl...</td>\n",
       "      <td>partner BA return flight Tampa Gatwick excit...</td>\n",
       "    </tr>\n",
       "    <tr>\n",
       "      <th>2</th>\n",
       "      <td>We had a Premium Economy return flight Los A...</td>\n",
       "      <td>Premium Economy return flight Los Angeles Lo...</td>\n",
       "    </tr>\n",
       "    <tr>\n",
       "      <th>3</th>\n",
       "      <td>I should like to review my flight with Briti...</td>\n",
       "      <td>like review flight British Airways Hannover ...</td>\n",
       "    </tr>\n",
       "    <tr>\n",
       "      <th>4</th>\n",
       "      <td>We have flown with British Airways a few time...</td>\n",
       "      <td>fly British Airways time last trip far bad e...</td>\n",
       "    </tr>\n",
       "  </tbody>\n",
       "</table>\n",
       "</div>"
      ],
      "text/plain": [
       "                                             reviews  \\\n",
       "0   I strongly advise everyone to NEVER fly Briti...   \n",
       "1   My partner and I were on the BA2166 return fl...   \n",
       "2    We had a Premium Economy return flight Los A...   \n",
       "3    I should like to review my flight with Briti...   \n",
       "4   We have flown with British Airways a few time...   \n",
       "\n",
       "                                               Lemma  \n",
       "0    strongly advise everyone NEVER fly British A...  \n",
       "1    partner BA return flight Tampa Gatwick excit...  \n",
       "2    Premium Economy return flight Los Angeles Lo...  \n",
       "3    like review flight British Airways Hannover ...  \n",
       "4    fly British Airways time last trip far bad e...  "
      ]
     },
     "execution_count": 55,
     "metadata": {},
     "output_type": "execute_result"
    }
   ],
   "source": [
    "df[['reviews', 'Lemma']].head()"
   ]
  },
  {
   "cell_type": "markdown",
   "metadata": {},
   "source": [
    "REVIEWS SENTIMENT ANALYSIS USING VADER SENTIMENT ANALYSIS"
   ]
  },
  {
   "cell_type": "code",
   "execution_count": 56,
   "metadata": {},
   "outputs": [
    {
     "name": "stdout",
     "output_type": "stream",
     "text": [
      "Collecting vaderSentiment\n",
      "  Downloading vaderSentiment-3.3.2-py2.py3-none-any.whl.metadata (572 bytes)\n",
      "Requirement already satisfied: requests in /opt/anaconda3/lib/python3.11/site-packages (from vaderSentiment) (2.31.0)\n",
      "Requirement already satisfied: charset-normalizer<4,>=2 in /opt/anaconda3/lib/python3.11/site-packages (from requests->vaderSentiment) (2.0.4)\n",
      "Requirement already satisfied: idna<4,>=2.5 in /opt/anaconda3/lib/python3.11/site-packages (from requests->vaderSentiment) (3.4)\n",
      "Requirement already satisfied: urllib3<3,>=1.21.1 in /opt/anaconda3/lib/python3.11/site-packages (from requests->vaderSentiment) (2.0.7)\n",
      "Requirement already satisfied: certifi>=2017.4.17 in /opt/anaconda3/lib/python3.11/site-packages (from requests->vaderSentiment) (2024.2.2)\n",
      "Downloading vaderSentiment-3.3.2-py2.py3-none-any.whl (125 kB)\n",
      "\u001b[2K   \u001b[90m━━━━━━━━━━━━━━━━━━━━━━━━━━━━━━━━━━━━━━━━\u001b[0m \u001b[32m126.0/126.0 kB\u001b[0m \u001b[31m1.9 MB/s\u001b[0m eta \u001b[36m0:00:00\u001b[0m00:01\u001b[0m\n",
      "\u001b[?25hInstalling collected packages: vaderSentiment\n",
      "Successfully installed vaderSentiment-3.3.2\n",
      "Note: you may need to restart the kernel to use updated packages.\n"
     ]
    }
   ],
   "source": [
    "%pip install vaderSentiment"
   ]
  },
  {
   "cell_type": "code",
   "execution_count": 57,
   "metadata": {},
   "outputs": [
    {
     "data": {
      "text/html": [
       "<div>\n",
       "<style scoped>\n",
       "    .dataframe tbody tr th:only-of-type {\n",
       "        vertical-align: middle;\n",
       "    }\n",
       "\n",
       "    .dataframe tbody tr th {\n",
       "        vertical-align: top;\n",
       "    }\n",
       "\n",
       "    .dataframe thead th {\n",
       "        text-align: right;\n",
       "    }\n",
       "</style>\n",
       "<table border=\"1\" class=\"dataframe\">\n",
       "  <thead>\n",
       "    <tr style=\"text-align: right;\">\n",
       "      <th></th>\n",
       "      <th>reviews</th>\n",
       "      <th>Cleaned Reviews</th>\n",
       "      <th>POS tagged</th>\n",
       "      <th>Lemma</th>\n",
       "      <th>Sentiment</th>\n",
       "      <th>Analysis</th>\n",
       "    </tr>\n",
       "  </thead>\n",
       "  <tbody>\n",
       "    <tr>\n",
       "      <th>0</th>\n",
       "      <td>I strongly advise everyone to NEVER fly Briti...</td>\n",
       "      <td>I strongly advise everyone to NEVER fly Briti...</td>\n",
       "      <td>[(strongly, r), (advise, v), (everyone, n), (N...</td>\n",
       "      <td>strongly advise everyone NEVER fly British A...</td>\n",
       "      <td>0.9708</td>\n",
       "      <td>Positive</td>\n",
       "    </tr>\n",
       "    <tr>\n",
       "      <th>1</th>\n",
       "      <td>My partner and I were on the BA2166 return fl...</td>\n",
       "      <td>My partner and I were on the BA return flight...</td>\n",
       "      <td>[(partner, n), (BA, n), (return, n), (flight, ...</td>\n",
       "      <td>partner BA return flight Tampa Gatwick excit...</td>\n",
       "      <td>0.8107</td>\n",
       "      <td>Positive</td>\n",
       "    </tr>\n",
       "    <tr>\n",
       "      <th>2</th>\n",
       "      <td>We had a Premium Economy return flight Los A...</td>\n",
       "      <td>We had a Premium Economy return flight Los An...</td>\n",
       "      <td>[(Premium, a), (Economy, n), (return, n), (fli...</td>\n",
       "      <td>Premium Economy return flight Los Angeles Lo...</td>\n",
       "      <td>-0.3538</td>\n",
       "      <td>Negative</td>\n",
       "    </tr>\n",
       "    <tr>\n",
       "      <th>3</th>\n",
       "      <td>I should like to review my flight with Briti...</td>\n",
       "      <td>I should like to review my flight with Britis...</td>\n",
       "      <td>[(like, v), (review, v), (flight, n), (British...</td>\n",
       "      <td>like review flight British Airways Hannover ...</td>\n",
       "      <td>0.9867</td>\n",
       "      <td>Positive</td>\n",
       "    </tr>\n",
       "    <tr>\n",
       "      <th>4</th>\n",
       "      <td>We have flown with British Airways a few time...</td>\n",
       "      <td>We have flown with British Airways a few time...</td>\n",
       "      <td>[(flown, v), (British, n), (Airways, n), (time...</td>\n",
       "      <td>fly British Airways time last trip far bad e...</td>\n",
       "      <td>0.1531</td>\n",
       "      <td>Neutral</td>\n",
       "    </tr>\n",
       "  </tbody>\n",
       "</table>\n",
       "</div>"
      ],
      "text/plain": [
       "                                             reviews  \\\n",
       "0   I strongly advise everyone to NEVER fly Briti...   \n",
       "1   My partner and I were on the BA2166 return fl...   \n",
       "2    We had a Premium Economy return flight Los A...   \n",
       "3    I should like to review my flight with Briti...   \n",
       "4   We have flown with British Airways a few time...   \n",
       "\n",
       "                                     Cleaned Reviews  \\\n",
       "0   I strongly advise everyone to NEVER fly Briti...   \n",
       "1   My partner and I were on the BA return flight...   \n",
       "2   We had a Premium Economy return flight Los An...   \n",
       "3   I should like to review my flight with Britis...   \n",
       "4   We have flown with British Airways a few time...   \n",
       "\n",
       "                                          POS tagged  \\\n",
       "0  [(strongly, r), (advise, v), (everyone, n), (N...   \n",
       "1  [(partner, n), (BA, n), (return, n), (flight, ...   \n",
       "2  [(Premium, a), (Economy, n), (return, n), (fli...   \n",
       "3  [(like, v), (review, v), (flight, n), (British...   \n",
       "4  [(flown, v), (British, n), (Airways, n), (time...   \n",
       "\n",
       "                                               Lemma  Sentiment  Analysis  \n",
       "0    strongly advise everyone NEVER fly British A...     0.9708  Positive  \n",
       "1    partner BA return flight Tampa Gatwick excit...     0.8107  Positive  \n",
       "2    Premium Economy return flight Los Angeles Lo...    -0.3538  Negative  \n",
       "3    like review flight British Airways Hannover ...     0.9867  Positive  \n",
       "4    fly British Airways time last trip far bad e...     0.1531   Neutral  "
      ]
     },
     "execution_count": 57,
     "metadata": {},
     "output_type": "execute_result"
    }
   ],
   "source": [
    "from vaderSentiment.vaderSentiment import SentimentIntensityAnalyzer\n",
    "analyzer = SentimentIntensityAnalyzer()\n",
    "\n",
    "\n",
    "# calculating vader sentiment\n",
    "def vadersentimentanalysis(review):\n",
    "    vs = analyzer.polarity_scores(review)\n",
    "    return vs['compound']\n",
    "\n",
    "df['Sentiment'] = df['Lemma'].apply(vadersentimentanalysis)\n",
    "\n",
    "# analysing the sentiment   \n",
    "def vader_analysis(compound):\n",
    "    if compound >= 0.5:\n",
    "        return 'Positive'\n",
    "    elif compound < 0 :\n",
    "        return 'Negative'\n",
    "    else:\n",
    "        return 'Neutral'\n",
    "df['Analysis'] = df['Sentiment'].apply(vader_analysis)\n",
    "df.head()"
   ]
  },
  {
   "cell_type": "code",
   "execution_count": 58,
   "metadata": {},
   "outputs": [
    {
     "data": {
      "text/plain": [
       "Analysis\n",
       "Neutral     2127\n",
       "Positive     525\n",
       "Negative     468\n",
       "Name: count, dtype: int64"
      ]
     },
     "execution_count": 58,
     "metadata": {},
     "output_type": "execute_result"
    }
   ],
   "source": [
    "#seperating the positive, negative and neutral reviews\n",
    "vader_count = df['Analysis'].value_counts()\n",
    "vader_count"
   ]
  },
  {
   "cell_type": "markdown",
   "metadata": {},
   "source": [
    "Visualization\n"
   ]
  },
  {
   "cell_type": "code",
   "execution_count": 66,
   "metadata": {},
   "outputs": [
    {
     "data": {
      "image/png": "[encoded data removed]",
      "text/plain": [
       "<Figure size 640x480 with 1 Axes>"
      ]
     },
     "metadata": {},
     "output_type": "display_data"
    }
   ],
   "source": [
    "import matplotlib.pyplot as plt\n",
    "%matplotlib inline\n",
    "plt.title('Vader Sentiment Analysis')\n",
    "plt.pie(vader_count, labels = vader_count.index, autopct='%1.1f%%', startangle=90)\n",
    "plt.show() "
   ]
  },
  {
   "cell_type": "code",
   "execution_count": null,
   "metadata": {},
   "outputs": [],
   "source": []
  }
 ],
 "metadata": {
  "kernelspec": {
   "display_name": "Python 3",
   "language": "python",
   "name": "python3"
  },
  "language_info": {
   "codemirror_mode": {
    "name": "ipython",
    "version": 3
   },
   "file_extension": ".py",
   "mimetype": "text/x-python",
   "name": "python",
   "nbconvert_exporter": "python",
   "pygments_lexer": "ipython3",
   "version": "3.11.7"
  }
 },
 "nbformat": 4,
 "nbformat_minor": 2
}
