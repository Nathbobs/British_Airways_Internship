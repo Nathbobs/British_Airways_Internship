{
 "cells": [
  {
   "cell_type": "code",
   "execution_count": 16,
   "metadata": {},
   "outputs": [],
   "source": [
    "from bs4 import BeautifulSoup\n",
    "import requests\n"
   ]
  },
  {
   "cell_type": "code",
   "execution_count": 18,
   "metadata": {},
   "outputs": [],
   "source": [
    "reviews = [] # list to store reviews\n",
    "\n",
    "stars_given = [] # list to store stars given\n",
    "\n",
    "date = [] # list to store date of review\n",
    "\n",
    "nationality = [] # list to store nationality of the reviewer"
   ]
  },
  {
   "cell_type": "code",
   "execution_count": 25,
   "metadata": {},
   "outputs": [
    {
     "name": "stdout",
     "output_type": "stream",
     "text": [
      "  --> Scraping page 1 of 10\n",
      "  --> 2220 total reviews found\n",
      "  --> Scraping page 2 of 10\n",
      "  --> 2320 total reviews found\n",
      "  --> Scraping page 3 of 10\n",
      "  --> 2420 total reviews found\n",
      "  --> Scraping page 4 of 10\n",
      "  --> 2520 total reviews found\n",
      "  --> Scraping page 5 of 10\n",
      "  --> 2620 total reviews found\n",
      "  --> Scraping page 6 of 10\n",
      "  --> 2720 total reviews found\n",
      "  --> Scraping page 7 of 10\n",
      "  --> 2820 total reviews found\n",
      "  --> Scraping page 8 of 10\n",
      "  --> 2920 total reviews found\n",
      "  --> Scraping page 9 of 10\n",
      "  --> 3020 total reviews found\n",
      "  --> Scraping page 10 of 10\n",
      "  --> 3120 total reviews found\n"
     ]
    }
   ],
   "source": [
    "url = 'https://www.airlinequality.com/airline-reviews/british-airways/'\n",
    "pages = 10\n",
    "page_size = 100\n",
    "\n",
    "#checking out for the total number of pages; each page contains 100 reviews\n",
    "for i in range(1, pages + 1):\n",
    "    print(f\"  --> Scraping page {i} of {pages}\")\n",
    "    url = f'https://www.airlinequality.com/airline-reviews/british-airways/page/{i}/?sortby=post_date%3ADesc&pagesize={page_size}'\n",
    "    page = requests.get(url) # collecting data from page\n",
    "    content = page.content # getting the content of the page\n",
    "    parsed_content = BeautifulSoup(content, 'html.parser') # parsing the content of the page\n",
    "    for i in parsed_content.find_all('div', {\"class\": 'text_content'}):\n",
    "        reviews.append(i.get_text)\n",
    "\n",
    "# BeautifulSoup(page.content, 'html')\n",
    "# content = page.content  \n",
    "# parsed_content = BeautifulSoup(content, 'html.parser')\n",
    "# for i in parsed_content.find_all('div', class_='text_content'):\n",
    "#     reviews.append(i.text)\n",
    "\n",
    "    print(f\"  --> {len(reviews)} total reviews found\")\n",
    "    "
   ]
  },
  {
   "cell_type": "code",
   "execution_count": 27,
   "metadata": {},
   "outputs": [
    {
     "data": {
      "text/html": [
       "<div>\n",
       "<style scoped>\n",
       "    .dataframe tbody tr th:only-of-type {\n",
       "        vertical-align: middle;\n",
       "    }\n",
       "\n",
       "    .dataframe tbody tr th {\n",
       "        vertical-align: top;\n",
       "    }\n",
       "\n",
       "    .dataframe thead th {\n",
       "        text-align: right;\n",
       "    }\n",
       "</style>\n",
       "<table border=\"1\" class=\"dataframe\">\n",
       "  <thead>\n",
       "    <tr style=\"text-align: right;\">\n",
       "      <th></th>\n",
       "      <th>Reviews</th>\n",
       "    </tr>\n",
       "  </thead>\n",
       "  <tbody>\n",
       "    <tr>\n",
       "      <th>0</th>\n",
       "      <td>✅ Trip Verified | I strongly advise everyone t...</td>\n",
       "    </tr>\n",
       "    <tr>\n",
       "      <th>1</th>\n",
       "      <td>✅ Trip Verified | My partner and I were on the...</td>\n",
       "    </tr>\n",
       "    <tr>\n",
       "      <th>2</th>\n",
       "      <td>Not Verified |  We had a Premium Economy retur...</td>\n",
       "    </tr>\n",
       "    <tr>\n",
       "      <th>3</th>\n",
       "      <td>✅ Trip Verified |  I should like to review my ...</td>\n",
       "    </tr>\n",
       "    <tr>\n",
       "      <th>4</th>\n",
       "      <td>✅ Trip Verified | We have flown with British A...</td>\n",
       "    </tr>\n",
       "  </tbody>\n",
       "</table>\n",
       "</div>"
      ],
      "text/plain": [
       "                                             Reviews\n",
       "0  ✅ Trip Verified | I strongly advise everyone t...\n",
       "1  ✅ Trip Verified | My partner and I were on the...\n",
       "2  Not Verified |  We had a Premium Economy retur...\n",
       "3  ✅ Trip Verified |  I should like to review my ...\n",
       "4  ✅ Trip Verified | We have flown with British A..."
      ]
     },
     "execution_count": 27,
     "metadata": {},
     "output_type": "execute_result"
    }
   ],
   "source": [
    "import pandas as pd\n",
    "\n",
    "df = pd.DataFrame({'Reviews': reviews})\n",
    "df.to_csv('british_airways_reviews.csv', index=False)\n",
    "df.head()"
   ]
  },
  {
   "cell_type": "code",
   "execution_count": null,
   "metadata": {},
   "outputs": [],
   "source": []
  }
 ],
 "metadata": {
  "kernelspec": {
   "display_name": "Python 3",
   "language": "python",
   "name": "python3"
  },
  "language_info": {
   "codemirror_mode": {
    "name": "ipython",
    "version": 3
   },
   "file_extension": ".py",
   "mimetype": "text/x-python",
   "name": "python",
   "nbconvert_exporter": "python",
   "pygments_lexer": "ipython3",
   "version": "3.11.7"
  }
 },
 "nbformat": 4,
 "nbformat_minor": 2
}
